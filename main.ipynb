{
 "cells": [
  {
   "cell_type": "code",
   "execution_count": 700,
   "metadata": {},
   "outputs": [],
   "source": [
    "from collections import defaultdict\n",
    "from tqdm import tqdm\n",
    "import math\n",
    "import numpy as np"
   ]
  },
  {
   "cell_type": "code",
   "execution_count": 701,
   "metadata": {},
   "outputs": [],
   "source": [
    "with open(\"data/train\") as f:\n",
    "    data = f.readlines()"
   ]
  },
  {
   "cell_type": "code",
   "execution_count": 702,
   "metadata": {},
   "outputs": [],
   "source": [
    "specialChars = {\n",
    "    # \",\" : \",\",\n",
    "    # \".\" : \".\", \n",
    "    # \"$\" : \"$\",\n",
    "    # \"the\" : \"DT\",\n",
    "    # \"``\" : \"``\",\n",
    "    # \"''\" : \"''\",\n",
    "    # \"The\" : \"DT\",\n",
    "    # \"--\" : \":\", \n",
    "    # \"%\" : \"NN\"\n",
    "} \n"
   ]
  },
  {
   "cell_type": "code",
   "execution_count": 703,
   "metadata": {},
   "outputs": [],
   "source": [
    "frequencyWords = defaultdict(int)\n",
    "frequencyPOS = defaultdict(int)\n",
    "for d in data:\n",
    "    s = d.split(\"\\t\")\n",
    "    if len(s) < 2:\n",
    "        continue\n",
    "\n",
    "    frequencyWords[s[1]] += 1\n",
    "    frequencyPOS[s[2][:-1]] += 1\n",
    "    \n",
    "frequencyWords = dict(sorted(frequencyWords.items(), key=lambda item: item[1], reverse=True))"
   ]
  },
  {
   "cell_type": "code",
   "execution_count": 704,
   "metadata": {},
   "outputs": [
    {
     "name": "stdout",
     "output_type": "stream",
     "text": [
      "23182 20011\n"
     ]
    }
   ],
   "source": [
    "# check for words with frequency less than K\n",
    "\n",
    "k = 1\n",
    "\n",
    "Vocab = [] # list(frequencyWords.keys())\n",
    "unkCount = 0\n",
    "for word, freq in frequencyWords.items():\n",
    "    if freq > k:\n",
    "        Vocab.append(word)\n",
    "    else:\n",
    "        unkCount += freq\n",
    "        \n",
    "print(len(Vocab), unkCount)\n"
   ]
  },
  {
   "cell_type": "code",
   "execution_count": 705,
   "metadata": {},
   "outputs": [],
   "source": [
    "rank = 1\n",
    "\n",
    "with open(\"vocab.txt\", \"w+\") as f:\n",
    "    f.write(f\"<unk>\\t{0}\\t{unkCount}\\n\")\n",
    "    for key, val in frequencyWords.items():\n",
    "        if val > k:\n",
    "            f.write(f\"{key}\\t{rank}\\t{val}\\n\")\n",
    "            rank += 1"
   ]
  },
  {
   "cell_type": "code",
   "execution_count": 706,
   "metadata": {},
   "outputs": [],
   "source": [
    "frequencyPOSNormalized = {}\n",
    "total = sum(frequencyPOS.values())\n",
    "for k, v in frequencyPOS.items():\n",
    "    frequencyPOSNormalized[k] = np.float64(v/total)\n",
    "\n",
    "POSlist = list(frequencyPOSNormalized.keys())"
   ]
  },
  {
   "cell_type": "code",
   "execution_count": 707,
   "metadata": {},
   "outputs": [
    {
     "data": {
      "text/plain": [
       "45"
      ]
     },
     "execution_count": 707,
     "metadata": {},
     "output_type": "execute_result"
    }
   ],
   "source": [
    "len(frequencyPOSNormalized)"
   ]
  },
  {
   "attachments": {},
   "cell_type": "markdown",
   "metadata": {},
   "source": [
    "# Make Dict"
   ]
  },
  {
   "cell_type": "code",
   "execution_count": 710,
   "metadata": {},
   "outputs": [
    {
     "name": "stderr",
     "output_type": "stream",
     "text": [
      "100%|██████████| 950312/950312 [01:39<00:00, 9557.36it/s] \n"
     ]
    }
   ],
   "source": [
    "sentences = []\n",
    "pos = []\n",
    "\n",
    "sent = []\n",
    "postemp = []\n",
    "for d in tqdm(data):\n",
    "    s = d.split(\"\\t\")\n",
    "    if len(s) < 2:\n",
    "        sentences.append(sent)\n",
    "        pos.append(postemp)\n",
    "        sent = []\n",
    "        postemp = []    \n",
    "        continue\n",
    "    \n",
    "    if s[1] not in Vocab:\n",
    "        sent.append(\"<unk>\")  \n",
    "    else:\n",
    "        sent.append(s[1])\n",
    "    postemp.append(s[2][:-1])\n",
    "    "
   ]
  },
  {
   "cell_type": "code",
   "execution_count": 711,
   "metadata": {},
   "outputs": [
    {
     "data": {
      "text/plain": [
       "912095"
      ]
     },
     "execution_count": 711,
     "metadata": {},
     "output_type": "execute_result"
    }
   ],
   "source": [
    "sum(frequencyPOS.values())"
   ]
  },
  {
   "cell_type": "code",
   "execution_count": 712,
   "metadata": {},
   "outputs": [
    {
     "name": "stderr",
     "output_type": "stream",
     "text": [
      "38217it [00:01, 23833.92it/s]\n"
     ]
    }
   ],
   "source": [
    "emissionCount = defaultdict(int)\n",
    "transitionCount = defaultdict(int)\n",
    "stateFreq = defaultdict(int)\n",
    "\n",
    "for s, p in tqdm(zip(sentences, pos)):\n",
    "    if len(s) != len(p):\n",
    "        print(\"error\")\n",
    "    for i in range(len(p)-1):\n",
    "        transitionCount[(p[i], p[i+1])] += 1\n",
    "        emissionCount[(p[i], s[i])] += 1\n",
    "        stateFreq[p[i]] += 1\n",
    "    emissionCount[(p[-1], s[-1])] += 1\n",
    "    stateFreq[p[-1]] += 1"
   ]
  },
  {
   "cell_type": "code",
   "execution_count": 714,
   "metadata": {},
   "outputs": [
    {
     "name": "stderr",
     "output_type": "stream",
     "text": [
      "100%|██████████| 1351/1351 [00:00<00:00, 597228.57it/s]\n",
      "100%|██████████| 30303/30303 [00:00<00:00, 537429.78it/s]\n"
     ]
    }
   ],
   "source": [
    "emissionDict = {}\n",
    "transitionDict = {}\n",
    "\n",
    "for k, v in tqdm(transitionCount.items()):\n",
    "    transitionDict[f\"{k[0]}|{k[1]}\"] = np.float64(int(v) / int(stateFreq[k[0]]))\n",
    "    \n",
    "for k, v in tqdm(emissionCount.items()):\n",
    "    emissionDict[f\"{k[0]}|{k[1]}\"] = np.float64(int(v) / int(stateFreq[k[0]]))"
   ]
  },
  {
   "cell_type": "code",
   "execution_count": 715,
   "metadata": {},
   "outputs": [],
   "source": [
    "import json\n",
    "compiledDict = {\"transition\" : transitionDict, \"emission\" : emissionDict}\n",
    "with open(\"hmm.json\", \"w\") as outfile:\n",
    "    json.dump(compiledDict, outfile, indent = 4)"
   ]
  },
  {
   "cell_type": "code",
   "execution_count": 716,
   "metadata": {},
   "outputs": [
    {
     "data": {
      "text/plain": [
       "(1351, 30303)"
      ]
     },
     "execution_count": 716,
     "metadata": {},
     "output_type": "execute_result"
    }
   ],
   "source": [
    "len(transitionDict), len(emissionDict)"
   ]
  }
 ],
 "metadata": {
  "kernelspec": {
   "display_name": "base",
   "language": "python",
   "name": "python3"
  },
  "language_info": {
   "codemirror_mode": {
    "name": "ipython",
    "version": 3
   },
   "file_extension": ".py",
   "mimetype": "text/x-python",
   "name": "python",
   "nbconvert_exporter": "python",
   "pygments_lexer": "ipython3",
   "version": "3.7.13"
  },
  "orig_nbformat": 4,
  "vscode": {
   "interpreter": {
    "hash": "f95095c8a0a3097784e12049736c2d4ba0ed5c3ad8d4c368b4ca0a8dce635d82"
   }
  }
 },
 "nbformat": 4,
 "nbformat_minor": 2
}
